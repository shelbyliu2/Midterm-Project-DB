{
 "cells": [
  {
   "cell_type": "code",
   "execution_count": 3,
   "metadata": {},
   "outputs": [],
   "source": [
    "import pandas as pd\n",
    "import numpy as np\n",
    "import matplotlib as mpl \n",
    "import matplotlib.pyplot as plt\n",
    "%matplotlib inline  \n",
    "import datetime as dt"
   ]
  },
  {
   "cell_type": "code",
   "execution_count": 6,
   "metadata": {},
   "outputs": [
    {
     "data": {
      "text/html": [
       "<div>\n",
       "<style scoped>\n",
       "    .dataframe tbody tr th:only-of-type {\n",
       "        vertical-align: middle;\n",
       "    }\n",
       "\n",
       "    .dataframe tbody tr th {\n",
       "        vertical-align: top;\n",
       "    }\n",
       "\n",
       "    .dataframe thead th {\n",
       "        text-align: right;\n",
       "    }\n",
       "</style>\n",
       "<table border=\"1\" class=\"dataframe\">\n",
       "  <thead>\n",
       "    <tr style=\"text-align: right;\">\n",
       "      <th></th>\n",
       "      <th>company</th>\n",
       "      <th>sector</th>\n",
       "      <th>month</th>\n",
       "      <th>job_category</th>\n",
       "      <th>region</th>\n",
       "      <th>gender</th>\n",
       "      <th>count</th>\n",
       "      <th>inflow</th>\n",
       "      <th>outflow</th>\n",
       "    </tr>\n",
       "  </thead>\n",
       "  <tbody>\n",
       "    <tr>\n",
       "      <th>0</th>\n",
       "      <td>SAP SE</td>\n",
       "      <td>Information Technology</td>\n",
       "      <td>2013-10</td>\n",
       "      <td>technician</td>\n",
       "      <td>South America</td>\n",
       "      <td>female</td>\n",
       "      <td>50.711959</td>\n",
       "      <td>4.849139e-01</td>\n",
       "      <td>1.406462e+00</td>\n",
       "    </tr>\n",
       "    <tr>\n",
       "      <th>1</th>\n",
       "      <td>Wells Fargo &amp; Company</td>\n",
       "      <td>Financials</td>\n",
       "      <td>2013-10</td>\n",
       "      <td>technician</td>\n",
       "      <td>Pacific Islands</td>\n",
       "      <td>female</td>\n",
       "      <td>1.819455</td>\n",
       "      <td>6.467172e-07</td>\n",
       "      <td>6.981965e-07</td>\n",
       "    </tr>\n",
       "    <tr>\n",
       "      <th>2</th>\n",
       "      <td>MICROSOFT CORPORATION</td>\n",
       "      <td>Information Technology</td>\n",
       "      <td>2013-10</td>\n",
       "      <td>scientist</td>\n",
       "      <td>Northern America</td>\n",
       "      <td>male</td>\n",
       "      <td>1541.799779</td>\n",
       "      <td>3.127633e+01</td>\n",
       "      <td>2.168564e+01</td>\n",
       "    </tr>\n",
       "    <tr>\n",
       "      <th>3</th>\n",
       "      <td>DXC Technology Co</td>\n",
       "      <td>Information Technology</td>\n",
       "      <td>2013-10</td>\n",
       "      <td>sales</td>\n",
       "      <td>Western Europe</td>\n",
       "      <td>female</td>\n",
       "      <td>62.103364</td>\n",
       "      <td>3.428746e+00</td>\n",
       "      <td>4.043797e-03</td>\n",
       "    </tr>\n",
       "    <tr>\n",
       "      <th>4</th>\n",
       "      <td>United Technologies Corporation</td>\n",
       "      <td>Industrials</td>\n",
       "      <td>2013-10</td>\n",
       "      <td>administrative</td>\n",
       "      <td>Western Europe</td>\n",
       "      <td>male</td>\n",
       "      <td>77.189915</td>\n",
       "      <td>4.131975e-05</td>\n",
       "      <td>1.567777e-03</td>\n",
       "    </tr>\n",
       "    <tr>\n",
       "      <th>...</th>\n",
       "      <td>...</td>\n",
       "      <td>...</td>\n",
       "      <td>...</td>\n",
       "      <td>...</td>\n",
       "      <td>...</td>\n",
       "      <td>...</td>\n",
       "      <td>...</td>\n",
       "      <td>...</td>\n",
       "      <td>...</td>\n",
       "    </tr>\n",
       "    <tr>\n",
       "      <th>2379029</th>\n",
       "      <td>International Business Machines Corporation</td>\n",
       "      <td>Information Technology</td>\n",
       "      <td>2015-09</td>\n",
       "      <td>empty</td>\n",
       "      <td>Northern Europe</td>\n",
       "      <td>male</td>\n",
       "      <td>981.675002</td>\n",
       "      <td>3.283342e+01</td>\n",
       "      <td>2.577147e+01</td>\n",
       "    </tr>\n",
       "    <tr>\n",
       "      <th>2379030</th>\n",
       "      <td>IQVIA</td>\n",
       "      <td>Information Technology</td>\n",
       "      <td>2018-07</td>\n",
       "      <td>empty</td>\n",
       "      <td>South-Eastern Asia</td>\n",
       "      <td>male</td>\n",
       "      <td>47.651149</td>\n",
       "      <td>1.246570e+00</td>\n",
       "      <td>5.287461e-01</td>\n",
       "    </tr>\n",
       "    <tr>\n",
       "      <th>2379031</th>\n",
       "      <td>Delta Air Lines, Inc.</td>\n",
       "      <td>Industrials</td>\n",
       "      <td>2016-10</td>\n",
       "      <td>administrative</td>\n",
       "      <td>Northern Africa</td>\n",
       "      <td>female</td>\n",
       "      <td>0.000000</td>\n",
       "      <td>0.000000e+00</td>\n",
       "      <td>0.000000e+00</td>\n",
       "    </tr>\n",
       "    <tr>\n",
       "      <th>2379032</th>\n",
       "      <td>HCA Healthcare, Inc.</td>\n",
       "      <td>Health Care</td>\n",
       "      <td>2017-05</td>\n",
       "      <td>empty</td>\n",
       "      <td>Northern Europe</td>\n",
       "      <td>male</td>\n",
       "      <td>19.443301</td>\n",
       "      <td>6.653489e-01</td>\n",
       "      <td>5.603069e-01</td>\n",
       "    </tr>\n",
       "    <tr>\n",
       "      <th>2379033</th>\n",
       "      <td>Amazon.com, Inc.</td>\n",
       "      <td>Consumer Discretionary</td>\n",
       "      <td>2019-07</td>\n",
       "      <td>empty</td>\n",
       "      <td>Central America and the Caribbean</td>\n",
       "      <td>male</td>\n",
       "      <td>238.107218</td>\n",
       "      <td>1.141602e+01</td>\n",
       "      <td>9.540265e+00</td>\n",
       "    </tr>\n",
       "  </tbody>\n",
       "</table>\n",
       "<p>2379034 rows × 9 columns</p>\n",
       "</div>"
      ],
      "text/plain": [
       "                                             company                  sector  \\\n",
       "0                                             SAP SE  Information Technology   \n",
       "1                              Wells Fargo & Company              Financials   \n",
       "2                              MICROSOFT CORPORATION  Information Technology   \n",
       "3                                  DXC Technology Co  Information Technology   \n",
       "4                    United Technologies Corporation             Industrials   \n",
       "...                                              ...                     ...   \n",
       "2379029  International Business Machines Corporation  Information Technology   \n",
       "2379030                                        IQVIA  Information Technology   \n",
       "2379031                        Delta Air Lines, Inc.             Industrials   \n",
       "2379032                         HCA Healthcare, Inc.             Health Care   \n",
       "2379033                             Amazon.com, Inc.  Consumer Discretionary   \n",
       "\n",
       "           month    job_category                             region  gender  \\\n",
       "0        2013-10      technician                      South America  female   \n",
       "1        2013-10      technician                    Pacific Islands  female   \n",
       "2        2013-10       scientist                   Northern America    male   \n",
       "3        2013-10           sales                     Western Europe  female   \n",
       "4        2013-10  administrative                     Western Europe    male   \n",
       "...          ...             ...                                ...     ...   \n",
       "2379029  2015-09           empty                    Northern Europe    male   \n",
       "2379030  2018-07           empty                 South-Eastern Asia    male   \n",
       "2379031  2016-10  administrative                    Northern Africa  female   \n",
       "2379032  2017-05           empty                    Northern Europe    male   \n",
       "2379033  2019-07           empty  Central America and the Caribbean    male   \n",
       "\n",
       "               count        inflow       outflow  \n",
       "0          50.711959  4.849139e-01  1.406462e+00  \n",
       "1           1.819455  6.467172e-07  6.981965e-07  \n",
       "2        1541.799779  3.127633e+01  2.168564e+01  \n",
       "3          62.103364  3.428746e+00  4.043797e-03  \n",
       "4          77.189915  4.131975e-05  1.567777e-03  \n",
       "...              ...           ...           ...  \n",
       "2379029   981.675002  3.283342e+01  2.577147e+01  \n",
       "2379030    47.651149  1.246570e+00  5.287461e-01  \n",
       "2379031     0.000000  0.000000e+00  0.000000e+00  \n",
       "2379032    19.443301  6.653489e-01  5.603069e-01  \n",
       "2379033   238.107218  1.141602e+01  9.540265e+00  \n",
       "\n",
       "[2379034 rows x 9 columns]"
      ]
     },
     "execution_count": 6,
     "metadata": {},
     "output_type": "execute_result"
    }
   ],
   "source": [
    "url = 'https://reveliolabs.s3.us-east-2.amazonaws.com/DB_MidtermSampleData_Mar21.csv'\n",
    "df = pd.read_csv(url)\n",
    "df"
   ]
  },
  {
   "cell_type": "code",
   "execution_count": 9,
   "metadata": {},
   "outputs": [
    {
     "data": {
      "text/plain": [
       "array(['SAP SE', 'Wells Fargo & Company', 'MICROSOFT CORPORATION',\n",
       "       'DXC Technology Co', 'United Technologies Corporation',\n",
       "       'Amazon.com, Inc.', 'IQVIA', 'Coca-Cola Company', 'Walmart Inc',\n",
       "       'Vodafone Group PLC', 'Infosys Ltd', 'Toyota Motor Corp',\n",
       "       'Facebook Inc', 'JPMorgan Chase', 'Medtronic PLC',\n",
       "       'Verizon Communications Inc.', 'PepsiCo, Inc.',\n",
       "       'Hewlett Packard Enterprise Company', 'Aon PLC',\n",
       "       'Target Corporation', 'Apple, Inc.', 'Cisco Systems, Inc.',\n",
       "       'Alphabet Inc.', 'American Airlines Group, Inc.', 'HP Inc',\n",
       "       'GENERAL MOTORS COMPANY', 'Nestle SA', 'The Boeing Company',\n",
       "       'Accenture PLC', 'International Business Machines Corporation',\n",
       "       'Volkswagen AG', 'Capgemini SE', 'Blackstone Group L.P.', 'AT&T',\n",
       "       'CVS Health Corporation', 'Staples Inc.', 'Citigroup Inc',\n",
       "       'WPP PLC', 'Unilever NV', 'Novartis AG', 'UnitedHealth Group Inc',\n",
       "       'Ford Motor Company', 'Orange SA', 'Omnicom Group Inc',\n",
       "       'FedEx Corporation', 'Siemens AG', 'Barclays PLC',\n",
       "       'HSBC Holdings PLC', 'Honeywell International Inc',\n",
       "       'Dell Technologies Inc', 'Merck & Co., Inc.',\n",
       "       'Procter & Gamble Co', 'Oracle Corporation',\n",
       "       'Lockheed Martin Corporation', 'Bayer AG', 'Starbucks Corporation',\n",
       "       'Abbott Laboratories', 'Wipro Ltd', 'Morgan Stanley', 'Tata Group',\n",
       "       'GlaxoSmithKline PLC', 'Walt Disney Company',\n",
       "       'HCL Technologies Ltd', 'Roche Holding AG', 'Banco Santander SA',\n",
       "       'Intel Corporation', 'Comcast Corporation', 'Atos SE',\n",
       "       'Pfizer Inc', 'Bank of America Corporation',\n",
       "       'HCA Healthcare, Inc.', 'Delta Air Lines, Inc.', 'Caterpillar Inc',\n",
       "       'General Electric Company', 'Northrop Grumman Corporation',\n",
       "       'ABB Ltd', 'Johnson & Johnson'], dtype=object)"
      ]
     },
     "execution_count": 9,
     "metadata": {},
     "output_type": "execute_result"
    }
   ],
   "source": [
    "df['company'].unique()"
   ]
  },
  {
   "cell_type": "code",
   "execution_count": 10,
   "metadata": {},
   "outputs": [
    {
     "data": {
      "text/plain": [
       "77"
      ]
     },
     "execution_count": 10,
     "metadata": {},
     "output_type": "execute_result"
    }
   ],
   "source": [
    "df['company'].nunique()"
   ]
  },
  {
   "cell_type": "code",
   "execution_count": 11,
   "metadata": {},
   "outputs": [
    {
     "data": {
      "text/plain": [
       "array(['Information Technology', 'Financials', 'Industrials',\n",
       "       'Consumer Discretionary', 'Consumer Staples', 'Communication',\n",
       "       'Health Care'], dtype=object)"
      ]
     },
     "execution_count": 11,
     "metadata": {},
     "output_type": "execute_result"
    }
   ],
   "source": [
    "df['sector'].unique()"
   ]
  },
  {
   "cell_type": "code",
   "execution_count": 12,
   "metadata": {},
   "outputs": [
    {
     "data": {
      "text/plain": [
       "array(['2013-10', '2013-11', '2013-12', '2014-01', '2014-02', '2014-03',\n",
       "       '2014-04', '2014-05', '2014-06', '2014-07', '2014-08', '2014-09',\n",
       "       '2014-10', '2014-11', '2014-12', '2015-01', '2015-02', '2015-03',\n",
       "       '2015-04', '2015-05', '2015-06', '2015-07', '2015-08', '2015-09',\n",
       "       '2015-10', '2015-11', '2015-12', '2016-01', '2016-02', '2016-03',\n",
       "       '2016-04', '2016-05', '2017-06', '2016-06', '2017-07', '2016-07',\n",
       "       '2017-08', '2016-08', '2017-09', '2016-09', '2017-10', '2016-10',\n",
       "       '2017-11', '2016-11', '2017-12', '2016-12', '2018-01', '2017-01',\n",
       "       '2018-02', '2017-02', '2018-03', '2017-03', '2018-04', '2017-04',\n",
       "       '2018-05', '2017-05', '2018-06', '2018-07', '2018-08', '2018-09',\n",
       "       '2018-10', '2018-11', '2018-12', '2019-01', '2019-02', '2019-03',\n",
       "       '2012-01', '2012-02', '2012-03', '2012-04', '2021-01', '2019-04',\n",
       "       '2012-05', '2019-05', '2012-06', '2019-06', '2012-07', '2019-07',\n",
       "       '2012-08', '2019-08', '2012-09', '2019-09', '2012-10', '2019-10',\n",
       "       '2012-11', '2019-11', '2012-12', '2019-12', '2013-01', '2020-01',\n",
       "       '2013-02', '2020-02', '2013-03', '2020-03', '2013-04', '2020-04',\n",
       "       '2020-05', '2013-05', '2020-06', '2013-06', '2013-07', '2020-07',\n",
       "       '2020-08', '2013-08', '2020-09', '2013-09', '2020-10', '2020-11',\n",
       "       '2020-12'], dtype=object)"
      ]
     },
     "execution_count": 12,
     "metadata": {},
     "output_type": "execute_result"
    }
   ],
   "source": [
    "df['month'].unique()"
   ]
  },
  {
   "cell_type": "code",
   "execution_count": 13,
   "metadata": {},
   "outputs": [
    {
     "data": {
      "text/plain": [
       "array(['South America', 'Pacific Islands', 'Northern America',\n",
       "       'Western Europe', 'South-Eastern Asia', 'Eastern Europe',\n",
       "       'Eastern Asia', 'Northern Africa', 'Central and Western Asia',\n",
       "       'Sub-Saharan Africa', 'empty', 'Southern Asia',\n",
       "       'Central America and the Caribbean', 'Northern Europe',\n",
       "       'Arab States', 'Southern Europe'], dtype=object)"
      ]
     },
     "execution_count": 13,
     "metadata": {},
     "output_type": "execute_result"
    }
   ],
   "source": [
    "df['region'].unique()"
   ]
  },
  {
   "cell_type": "code",
   "execution_count": 14,
   "metadata": {},
   "outputs": [
    {
     "data": {
      "text/plain": [
       "female    1189517\n",
       "male      1189517\n",
       "Name: gender, dtype: int64"
      ]
     },
     "execution_count": 14,
     "metadata": {},
     "output_type": "execute_result"
    }
   ],
   "source": [
    "df['gender'].value_counts()"
   ]
  },
  {
   "cell_type": "code",
   "execution_count": 15,
   "metadata": {},
   "outputs": [
    {
     "data": {
      "text/plain": [
       "773.6731477899239"
      ]
     },
     "execution_count": 15,
     "metadata": {},
     "output_type": "execute_result"
    }
   ],
   "source": [
    "df['count'].mean()"
   ]
  },
  {
   "cell_type": "code",
   "execution_count": 17,
   "metadata": {},
   "outputs": [
    {
     "data": {
      "text/plain": [
       "0.0"
      ]
     },
     "execution_count": 17,
     "metadata": {},
     "output_type": "execute_result"
    }
   ],
   "source": [
    "df['count'].min()"
   ]
  },
  {
   "cell_type": "code",
   "execution_count": 18,
   "metadata": {},
   "outputs": [
    {
     "data": {
      "text/plain": [
       "266605.21549496"
      ]
     },
     "execution_count": 18,
     "metadata": {},
     "output_type": "execute_result"
    }
   ],
   "source": [
    "df['count'].max()"
   ]
  },
  {
   "cell_type": "code",
   "execution_count": 20,
   "metadata": {},
   "outputs": [
    {
     "data": {
      "text/plain": [
       "12181.569750691498"
      ]
     },
     "execution_count": 20,
     "metadata": {},
     "output_type": "execute_result"
    }
   ],
   "source": [
    "df['inflow'].max()"
   ]
  },
  {
   "cell_type": "code",
   "execution_count": 21,
   "metadata": {},
   "outputs": [
    {
     "data": {
      "text/plain": [
       "11.98507778394389"
      ]
     },
     "execution_count": 21,
     "metadata": {},
     "output_type": "execute_result"
    }
   ],
   "source": [
    "df['inflow'].mean()"
   ]
  },
  {
   "cell_type": "code",
   "execution_count": 29,
   "metadata": {},
   "outputs": [],
   "source": [
    "amazon = df.loc[(df['company']=='Amazon.com, Inc.'),:]\n",
    "amazon_2020 = amazon.loc[]"
   ]
  },
  {
   "cell_type": "code",
   "execution_count": 30,
   "metadata": {},
   "outputs": [
    {
     "data": {
      "text/plain": [
       "<pandas.plotting._core.PlotAccessor object at 0x102a24460>"
      ]
     },
     "execution_count": 30,
     "metadata": {},
     "output_type": "execute_result"
    }
   ],
   "source": [
    "fig,ax = plt.subplots()\n",
    "amazon.plot.bar(x = 'Year', ax=ax, color = ['r','y','b'], stacked=True)\n"
   ]
  },
  {
   "cell_type": "code",
   "execution_count": null,
   "metadata": {},
   "outputs": [],
   "source": []
  }
 ],
 "metadata": {
  "kernelspec": {
   "display_name": "Python 3",
   "language": "python",
   "name": "python3"
  },
  "language_info": {
   "codemirror_mode": {
    "name": "ipython",
    "version": 3
   },
   "file_extension": ".py",
   "mimetype": "text/x-python",
   "name": "python",
   "nbconvert_exporter": "python",
   "pygments_lexer": "ipython3",
   "version": "3.8.5"
  }
 },
 "nbformat": 4,
 "nbformat_minor": 4
}
